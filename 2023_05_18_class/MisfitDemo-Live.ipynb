{
 "cells": [
  {
   "cell_type": "code",
   "execution_count": null,
   "id": "0bbe2746",
   "metadata": {},
   "outputs": [],
   "source": [
    "# visit https://github.com/mfenner1/mlwpy_live\n",
    "# click \"Code\"\n",
    "# select \"Download ZIP\"\n",
    "# unzip on your Desktop"
   ]
  },
  {
   "cell_type": "code",
   "execution_count": null,
   "id": "b80dce38",
   "metadata": {},
   "outputs": [],
   "source": [
    "import matplotlib.pyplot as plt\n",
    "import numpy as np\n",
    "import pandas as pd\n",
    "import seaborn as sns\n",
    "\n",
    "# if you are on a mac, better graphics output\n",
    "# otherwise, comment this out\n",
    "%config InlineBackend.figure_format = 'retina'"
   ]
  },
  {
   "cell_type": "code",
   "execution_count": null,
   "id": "ebd0d050",
   "metadata": {},
   "outputs": [],
   "source": [
    "from sklearn import (datasets, dummy, ensemble,\n",
    "                     linear_model, metrics,\n",
    "                     model_selection as skms,\n",
    "                     naive_bayes, neighbors, tree)"
   ]
  },
  {
   "cell_type": "code",
   "execution_count": null,
   "id": "a568038d",
   "metadata": {},
   "outputs": [],
   "source": [
    "from utils import (make_learning_curve, \n",
    "                   make_complexity_curve, \n",
    "                   rms_error, rmse)"
   ]
  },
  {
   "cell_type": "code",
   "execution_count": null,
   "id": "646a17b4",
   "metadata": {},
   "outputs": [],
   "source": [
    "import warnings\n",
    "warnings.filterwarnings(\"ignore\")\n",
    "np.random.seed(42)"
   ]
  },
  {
   "cell_type": "markdown",
   "id": "ca55ef5b",
   "metadata": {},
   "source": [
    "# Part 1:  Fit-Predict-Evaluate"
   ]
  },
  {
   "cell_type": "code",
   "execution_count": null,
   "id": "e8155463",
   "metadata": {},
   "outputs": [],
   "source": [
    "cah_df = pd.read_csv('datasets/cali.csv.gz')\n",
    "cah_df.columns"
   ]
  },
  {
   "cell_type": "code",
   "execution_count": null,
   "id": "7be24495",
   "metadata": {},
   "outputs": [],
   "source": [
    "cah_df.head(2)"
   ]
  },
  {
   "cell_type": "code",
   "execution_count": null,
   "id": "14d2b3d2",
   "metadata": {},
   "outputs": [],
   "source": [
    "housing_ftrs = cah_df.drop(columns=['Latitude', \n",
    "                                    'Longitude', \n",
    "                                    'MedHouseVal'])\n",
    "housing_tgt  = cah_df[['MedHouseVal']]"
   ]
  },
  {
   "cell_type": "code",
   "execution_count": null,
   "id": "0e3c47e0",
   "metadata": {},
   "outputs": [],
   "source": [
    "# but mark!!! we didn't do a train-test split\n",
    "# you're abs. right!\n",
    "knn = neighbors.KNeighborsRegressor(n_neighbors=3)\n",
    "fit = knn.fit(housing_ftrs, housing_tgt)  # furry, purrs --> cat\n",
    "preds = knn.predict(housing_ftrs)"
   ]
  },
  {
   "cell_type": "code",
   "execution_count": null,
   "id": "6a25f68b",
   "metadata": {},
   "outputs": [],
   "source": [
    "preds  # ---> like saying \"cat\""
   ]
  },
  {
   "cell_type": "code",
   "execution_count": null,
   "id": "52d1bcb8",
   "metadata": {},
   "outputs": [],
   "source": [
    "# how good are those predictions\n",
    "rms_error(housing_tgt, preds)\n",
    "\n",
    "# rms_error is the \"root-mean-squared-error\"\n",
    "# actual tgt is 10 .... \n",
    "# predict 11 ... error is (10 - 11) = -1\n",
    "# predict 9  ... error is (10 - 9)  =  1\n",
    "# if we square those errors:  -1 --> 1   and 1 --> 1\n",
    "# add up all those errors ... \n",
    "#      divide by the number of guesses we made\n",
    "# (that's just a \"mean\" or \"average\")\n",
    "# squaring is pretty big ... let's make small again:\n",
    "# take the square root ...\n",
    "\n",
    "# errors --> square them --> mean  --> square root\n",
    "# root-mean-sqaured-error'\n",
    "\n",
    "# no TTS --> this is what's called an \"insample\" or \"training\"\n",
    "#            error"
   ]
  },
  {
   "cell_type": "markdown",
   "id": "b0126f3e",
   "metadata": {},
   "source": [
    "### Let's add train-test split"
   ]
  },
  {
   "cell_type": "code",
   "execution_count": null,
   "id": "7b06885a",
   "metadata": {},
   "outputs": [],
   "source": [
    "housing_ftrs = cah_df.drop(columns=['Latitude', 'Longitude', 'MedHouseVal'])\n",
    "housing_tgt  = cah_df[['MedHouseVal']]\n",
    "\n",
    "(train_ftrs, test_ftrs,\n",
    " train_tgt,  test_tgt) = skms.train_test_split(housing_ftrs, \n",
    "                                               housing_tgt, \n",
    "                                               test_size=.33)"
   ]
  },
  {
   "cell_type": "code",
   "execution_count": null,
   "id": "de2ce539",
   "metadata": {},
   "outputs": [],
   "source": [
    "# features:  columns ... examples:  rows\n",
    "housing_ftrs.shape, train_ftrs.shape, test_ftrs.shape"
   ]
  },
  {
   "cell_type": "code",
   "execution_count": null,
   "id": "702a8a45",
   "metadata": {},
   "outputs": [],
   "source": [
    "# let's build a model ... just on the training data\n",
    "knn = (neighbors.KNeighborsRegressor(n_neighbors=3)\n",
    "                .fit(train_ftrs, train_tgt))"
   ]
  },
  {
   "cell_type": "code",
   "execution_count": null,
   "id": "b2ad9e26",
   "metadata": {},
   "outputs": [],
   "source": [
    "# we can predict on both train and test\n",
    "train_preds = knn.predict(train_ftrs)\n",
    "test_preds = knn.predict(test_ftrs)"
   ]
  },
  {
   "cell_type": "code",
   "execution_count": null,
   "id": "82331dc9",
   "metadata": {},
   "outputs": [],
   "source": [
    "# as above, this is \"in sample\" or \"training error\"\n",
    "train_rmse = rms_error(train_tgt, train_preds)\n",
    "print('train set rmse: {:0.4f}'.format(train_rmse))"
   ]
  },
  {
   "cell_type": "code",
   "execution_count": null,
   "id": "2f88dfa3",
   "metadata": {},
   "outputs": [],
   "source": [
    "# how do we do on novel data  (the test set)\n",
    "test_rmse = rms_error(test_tgt, test_preds)\n",
    "print('test set rmse: {:0.4f}'.format(test_rmse))"
   ]
  },
  {
   "cell_type": "code",
   "execution_count": null,
   "id": "099fae2a",
   "metadata": {},
   "outputs": [],
   "source": [
    "# we are worse on the test set .... that's normal!"
   ]
  },
  {
   "cell_type": "markdown",
   "id": "d00309a8",
   "metadata": {},
   "source": [
    "# Part 2:  Models"
   ]
  },
  {
   "cell_type": "markdown",
   "id": "7b112aba",
   "metadata": {},
   "source": [
    "# Baseline `Predict-the-Mean` Model"
   ]
  },
  {
   "cell_type": "code",
   "execution_count": null,
   "id": "8450fdea",
   "metadata": {},
   "outputs": [],
   "source": [
    "# this will \"learn\" a mean on the training data\n",
    "# ... and predict that mean for all predictions\n",
    "base = (dummy.DummyRegressor(strategy='mean') # default\n",
    "            .fit(train_ftrs, train_tgt))\n",
    "\n",
    "train_preds = base.predict(train_ftrs)\n",
    "test_preds  = base.predict(test_ftrs)"
   ]
  },
  {
   "cell_type": "code",
   "execution_count": null,
   "id": "4edf3bd8",
   "metadata": {},
   "outputs": [],
   "source": [
    "train_rmse = rms_error(train_tgt, train_preds)\n",
    "print('in-sample train rmse: {:0.4f}'.format(train_rmse))"
   ]
  },
  {
   "cell_type": "code",
   "execution_count": null,
   "id": "4679a864",
   "metadata": {},
   "outputs": [],
   "source": [
    "test_rmse = rms_error(test_tgt, test_preds)\n",
    "print('test rmse: {:0.4f}'.format(test_rmse))"
   ]
  },
  {
   "cell_type": "markdown",
   "id": "8a88a27e",
   "metadata": {},
   "source": [
    "# Two Different Nearest Neighbors Models"
   ]
  },
  {
   "cell_type": "code",
   "execution_count": null,
   "id": "fdab4e8a",
   "metadata": {},
   "outputs": [],
   "source": [
    "knr = (neighbors.KNeighborsRegressor(n_neighbors=3)\n",
    "                .fit(train_ftrs, train_tgt))\n",
    "\n",
    "train_preds = knr.predict(train_ftrs)\n",
    "test_preds = knr.predict(test_ftrs)\n",
    "\n",
    "train_rmse = rms_error(train_tgt, train_preds)\n",
    "test_rmse = rms_error(test_tgt, test_preds)\n",
    "\n",
    "print('kNN(k={:2d}) train/test rmse: {:0.4f} {:0.4f}'.format(3, \n",
    "                                                             train_rmse, \n",
    "                                                             test_rmse))"
   ]
  },
  {
   "cell_type": "code",
   "execution_count": null,
   "id": "37bb3767",
   "metadata": {},
   "outputs": [],
   "source": [
    "knr = (neighbors.KNeighborsRegressor(n_neighbors=1)\n",
    "                .fit(train_ftrs, train_tgt))\n",
    "\n",
    "train_preds = knr.predict(train_ftrs)\n",
    "test_preds = knr.predict(test_ftrs)\n",
    "\n",
    "train_rmse = rms_error(train_tgt, train_preds)\n",
    "test_rmse = rms_error(test_tgt, test_preds)\n",
    "\n",
    "print('kNN(k={:2d}) train/test rmse: {:0.4f} {:0.4f}'.format(3, \n",
    "                                                             train_rmse, \n",
    "                                                             test_rmse))"
   ]
  },
  {
   "cell_type": "code",
   "execution_count": null,
   "id": "58d65adc",
   "metadata": {},
   "outputs": [],
   "source": [
    "knr = (neighbors.KNeighborsRegressor(n_neighbors=10)\n",
    "                .fit(train_ftrs, train_tgt))\n",
    "\n",
    "train_preds = knr.predict(train_ftrs)\n",
    "test_preds = knr.predict(test_ftrs)\n",
    "\n",
    "train_rmse = rms_error(train_tgt, train_preds)\n",
    "test_rmse = rms_error(test_tgt, test_preds)\n",
    "\n",
    "print('kNN(k={:2d}) train/test rmse: {:0.4f} {:0.4f}'.format(3, \n",
    "                                                             train_rmse, \n",
    "                                                             test_rmse))"
   ]
  },
  {
   "cell_type": "markdown",
   "id": "3267e9b0",
   "metadata": {},
   "source": [
    "# Decision Trees"
   ]
  },
  {
   "cell_type": "code",
   "execution_count": null,
   "id": "fb70a603",
   "metadata": {},
   "outputs": [],
   "source": [
    "# DTs have a depth\n",
    "# a very deep tree ... can make very many splits\n",
    "# which can make many many little rectangles ...\n",
    "# which can memorize the training data\n",
    "dtr = (tree.DecisionTreeRegressor(max_depth=1)\n",
    "           .fit(train_ftrs, train_tgt))\n",
    "\n",
    "train_preds = dtr.predict(train_ftrs)\n",
    "test_preds  = dtr.predict(test_ftrs)\n",
    "\n",
    "train_rmse = rms_error(train_tgt, train_preds)\n",
    "test_rmse  = rms_error(test_tgt,  test_preds)\n",
    "\n",
    "print('DT-R(depth={:1d}) train/test rmse: {:0.4f} {:0.4f}'.format(1, \n",
    "                                                                  train_rmse, \n",
    "                                                                  test_rmse))"
   ]
  },
  {
   "cell_type": "code",
   "execution_count": null,
   "id": "3f040d89",
   "metadata": {},
   "outputs": [],
   "source": [
    "dtr = (tree.DecisionTreeRegressor(max_depth=8)\n",
    "           .fit(train_ftrs, train_tgt))\n",
    "\n",
    "train_preds = dtr.predict(train_ftrs)\n",
    "test_preds  = dtr.predict(test_ftrs)\n",
    "\n",
    "train_rmse = rms_error(train_tgt, train_preds)\n",
    "test_rmse  = rms_error(test_tgt,  test_preds)\n",
    "\n",
    "print('DT-R(depth={:1d}) train/test rmse: {:0.4f} {:0.4f}'.format(1, \n",
    "                                                                  train_rmse, \n",
    "                                                                  test_rmse))"
   ]
  },
  {
   "cell_type": "markdown",
   "id": "0f97c164",
   "metadata": {},
   "source": [
    "### Cross-Validation"
   ]
  },
  {
   "cell_type": "code",
   "execution_count": null,
   "id": "925a30cc",
   "metadata": {},
   "outputs": [],
   "source": [
    "from sklearn.model_selection import KFold\n",
    "seq = np.array(list('abcdefghi'))\n",
    "print(seq)\n",
    "print()\n",
    "\n",
    "# warning:  here we are shuffling.  see sk docs for more details.\n",
    "# https://scikit-learn.org/stable/common_pitfalls.html#randomness\n",
    "three_fold = KFold(n_splits=3, shuffle=True)\n",
    "for train, test in three_fold.split(seq):\n",
    "    print('train:', seq[train])\n",
    "    print('\\ttest:', seq[test])"
   ]
  },
  {
   "cell_type": "markdown",
   "id": "3764218b",
   "metadata": {},
   "source": [
    "### Evaluate with Cross-Validation"
   ]
  },
  {
   "cell_type": "code",
   "execution_count": null,
   "id": "81bbf958",
   "metadata": {},
   "outputs": [],
   "source": [
    "# default cv=None means do 5-fold CV\n",
    "# train->test->score five times\n",
    "skms.cross_val_score(neighbors.KNeighborsRegressor(n_neighbors=3), \n",
    "                     housing_ftrs, \n",
    "                     housing_tgt, \n",
    "                     scoring=rmse)"
   ]
  },
  {
   "cell_type": "code",
   "execution_count": null,
   "id": "1d5d590d",
   "metadata": {},
   "outputs": [],
   "source": [
    "cvs = skms.cross_val_score(neighbors.KNeighborsRegressor(n_neighbors=3), \n",
    "                     housing_ftrs, \n",
    "                     housing_tgt, \n",
    "                     scoring=rmse)\n",
    "cvs.mean()"
   ]
  },
  {
   "cell_type": "code",
   "execution_count": null,
   "id": "6e83e2a5",
   "metadata": {},
   "outputs": [],
   "source": [
    "models = [dummy.DummyRegressor(strategy='mean'),\n",
    "          neighbors.KNeighborsRegressor(n_neighbors=3),\n",
    "          neighbors.KNeighborsRegressor(n_neighbors=10),\n",
    "          tree.DecisionTreeRegressor(max_depth=1),\n",
    "          tree.DecisionTreeRegressor(max_depth=3)]\n",
    "\n",
    "for model in models:\n",
    "    cvs = skms.cross_val_score(model, \n",
    "                               housing_ftrs, \n",
    "                               housing_tgt, \n",
    "                               scoring=rmse)\n",
    "    print(model, \n",
    "          # cvs, \n",
    "          'mean ~ std: {:.3f} ~ {:.3f}'.format(cvs.mean(), \n",
    "                                               cvs.std()), \n",
    "          sep='\\n')"
   ]
  },
  {
   "cell_type": "markdown",
   "id": "9bffb274",
   "metadata": {},
   "source": [
    "### A Good k for Nearest Neighbors (Complexity Curves)"
   ]
  },
  {
   "cell_type": "code",
   "execution_count": null,
   "id": "27e255cb",
   "metadata": {},
   "outputs": [],
   "source": [
    "fig, ax = plt.subplots(1,1)\n",
    "knn = neighbors.KNeighborsRegressor\n",
    "\n",
    "n_neighbors = range(11)\n",
    "make_complexity_curve(knn(),        # model with ()\n",
    "                      \"KNN\",        # name for label\n",
    "                      'n_neighbors', n_neighbors,  #param name/vals\n",
    "                      housing_ftrs, housing_tgt,  # data\n",
    "                      ax=ax);\n",
    "\n",
    "# with nearest neighbors ... low # neighbors is more complex\n",
    "# ... 1000 examples .... 1-NN ---> 1000 different regions\n",
    "# .... 1000 examples ... 10-NN ---> ~100 regions\n",
    "# .... 1000 examples ... 1000-NN  --->  1 region"
   ]
  },
  {
   "cell_type": "markdown",
   "id": "2c8072f4",
   "metadata": {},
   "source": [
    "### Does More Data Help?  (Learning Curves)"
   ]
  },
  {
   "cell_type": "code",
   "execution_count": null,
   "id": "5b9bebb9",
   "metadata": {},
   "outputs": [],
   "source": [
    "# learning curves tell us what happens as we \n",
    "# use more and more data to train\n",
    "# notes:  1. the data is CV-split first and then \n",
    "#         2. fractions of that data are used"
   ]
  },
  {
   "cell_type": "code",
   "execution_count": null,
   "id": "bcc94eab",
   "metadata": {},
   "outputs": [],
   "source": [
    "fig, ax = plt.subplots(1,1)\n",
    "knn = neighbors.KNeighborsRegressor\n",
    "make_learning_curve(knn(n_neighbors=5), \"KNR(5)\", \n",
    "                    housing_ftrs, housing_tgt, \n",
    "                    ax=ax);"
   ]
  },
  {
   "cell_type": "code",
   "execution_count": null,
   "id": "d4df2a54",
   "metadata": {},
   "outputs": [],
   "source": [
    "# and for decision trees\n",
    "fig, axes = plt.subplots(2,1)\n",
    "dtr = tree.DecisionTreeRegressor\n",
    "\n",
    "max_depth = range(1,11)\n",
    "make_complexity_curve(dtr(), \"DT-R\", 'max_depth', max_depth, \n",
    "                      housing_ftrs, housing_tgt, ax=axes[0])\n",
    "\n",
    "make_learning_curve(dtr(max_depth=2), \"DT-R(6)\", housing_ftrs, housing_tgt, ax=axes[1])\n",
    "fig.tight_layout();"
   ]
  },
  {
   "cell_type": "markdown",
   "id": "53e8049a",
   "metadata": {},
   "source": [
    "### Let's Be Selective about our Features"
   ]
  },
  {
   "cell_type": "markdown",
   "id": "e47d1eeb",
   "metadata": {},
   "source": [
    "#### Feature Importances"
   ]
  },
  {
   "cell_type": "code",
   "execution_count": null,
   "id": "187ac203",
   "metadata": {},
   "outputs": [],
   "source": [
    "from sklearn.ensemble import RandomForestRegressor"
   ]
  },
  {
   "cell_type": "code",
   "execution_count": null,
   "id": "ff8e3186",
   "metadata": {},
   "outputs": [],
   "source": [
    "forest = RandomForestRegressor()\n",
    "forest.fit(housing_ftrs, housing_tgt)\n",
    "fis = forest.feature_importances_\n",
    "fis = pd.Series(fis, index=housing_ftrs.columns)"
   ]
  },
  {
   "cell_type": "code",
   "execution_count": null,
   "id": "fda9f7dc",
   "metadata": {},
   "outputs": [],
   "source": [
    "imp_df = (pd.DataFrame({'ftr_imp':fis})\n",
    "            .sort_values(by='ftr_imp', ascending=False))\n",
    "print(len(imp_df))\n",
    "imp_df.T"
   ]
  },
  {
   "cell_type": "code",
   "execution_count": null,
   "id": "cacf45e3",
   "metadata": {
    "scrolled": true
   },
   "outputs": [],
   "source": [
    "imp_df.plot.bar();"
   ]
  },
  {
   "cell_type": "code",
   "execution_count": null,
   "id": "10ec6f77",
   "metadata": {},
   "outputs": [],
   "source": [
    "hfi = imp_df[:2].index\n",
    "hfi"
   ]
  },
  {
   "cell_type": "markdown",
   "id": "feebaac5",
   "metadata": {},
   "source": [
    "#### Using \"good\" Features"
   ]
  },
  {
   "cell_type": "code",
   "execution_count": null,
   "id": "e973b133",
   "metadata": {},
   "outputs": [],
   "source": [
    "housing_ftrs = cah_df[hfi]\n",
    "housing_tgt  = cah_df[['MedHouseVal']]"
   ]
  },
  {
   "cell_type": "code",
   "execution_count": null,
   "id": "5c64a0cc",
   "metadata": {},
   "outputs": [],
   "source": [
    "def do_two_graphs(model, hyper_name, \n",
    "                  hyper_values, hyper_focus):\n",
    "    ' produce two plots for given model, hypers, on housing_ftrs/tgt'\n",
    "    fig, axes = plt.subplots(1,2, figsize=(12,3), sharey=True)\n",
    "    name = model.__name__\n",
    "    args = {hyper_name:hyper_focus}\n",
    "    \n",
    "    make_complexity_curve(model(), name, \n",
    "                          hyper_name, hyper_values, \n",
    "                          housing_ftrs, housing_tgt, ax=axes[0])\n",
    "    label = \"{}({})\".format(name, hyper_focus)\n",
    "    make_learning_curve(model(**args), label, \n",
    "                        housing_ftrs, housing_tgt, ax=axes[1])\n",
    "    fig.tight_layout()\n",
    "    \n",
    "    cvs = skms.cross_val_score(model(**args), \n",
    "                           housing_ftrs, housing_tgt, \n",
    "                           cv=5, scoring=rmse)\n",
    "    print('mean CV(5) RMSE for {} {:0.3f}'.format(label, cvs.mean()))"
   ]
  },
  {
   "cell_type": "code",
   "execution_count": null,
   "id": "5f9b8dfd",
   "metadata": {},
   "outputs": [],
   "source": [
    "do_two_graphs(neighbors.KNeighborsRegressor, \n",
    "              'n_neighbors', range(11), 5)\n",
    "do_two_graphs(tree.DecisionTreeRegressor, \n",
    "              'max_depth', range(1,11), 2)"
   ]
  },
  {
   "cell_type": "code",
   "execution_count": null,
   "id": "3107b34a",
   "metadata": {},
   "outputs": [],
   "source": []
  }
 ],
 "metadata": {
  "kernelspec": {
   "display_name": "Python 3 (ipykernel)",
   "language": "python",
   "name": "python3"
  },
  "language_info": {
   "codemirror_mode": {
    "name": "ipython",
    "version": 3
   },
   "file_extension": ".py",
   "mimetype": "text/x-python",
   "name": "python",
   "nbconvert_exporter": "python",
   "pygments_lexer": "ipython3",
   "version": "3.8.16"
  }
 },
 "nbformat": 4,
 "nbformat_minor": 5
}
